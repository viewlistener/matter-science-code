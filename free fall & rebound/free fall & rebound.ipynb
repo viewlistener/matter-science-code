{
 "cells": [
  {
   "cell_type": "markdown",
   "id": "608fd437",
   "metadata": {},
   "source": [
    "自由落体（忽略空气阻力），每次落地后反跳回原高度的一半，再落下"
   ]
  },
  {
   "cell_type": "code",
   "execution_count": 31,
   "id": "edc3e955",
   "metadata": {},
   "outputs": [
    {
     "name": "stdout",
     "output_type": "stream",
     "text": [
      "第10次反弹高度为0.09765625米,此时球一共经过299.70703125米，运动了25.507332660965776秒\n"
     ]
    }
   ],
   "source": [
    "import math\n",
    "def fall(h,n):\n",
    "    g=9.8\n",
    "    h_sum=0\n",
    "    t_sum=0\n",
    "    \n",
    "    for i in range(1,n+1):\n",
    "        #计算下落时间、高度\n",
    "        t=math.sqrt(2*h/g)\n",
    "        t_sum+=t#累加下落时间\n",
    "        h_sum+=h#累加总下落高度\n",
    "        \n",
    "        #计算反弹高度\n",
    "        h=0.5*h#更新下落高度\n",
    "        h_sum+=h#累加总反弹高度\n",
    "        \n",
    "        #计算上升时间\n",
    "        t=math.sqrt(2*h/g)\n",
    "        t_sum+=t#累加上升时间\n",
    "              \n",
    "    return h,h_sum,t_sum\n",
    "\n",
    "n=10\n",
    "result=fall(100,n)\n",
    "print(f\"第{n}次反弹高度为{result[0]}米,此时球一共经过{result[1]}米，运动了{result[2]}秒\")"
   ]
  },
  {
   "cell_type": "code",
   "execution_count": null,
   "id": "a3bbae66",
   "metadata": {},
   "outputs": [],
   "source": []
  }
 ],
 "metadata": {
  "kernelspec": {
   "display_name": "Python 3 (ipykernel)",
   "language": "python",
   "name": "python3"
  },
  "language_info": {
   "codemirror_mode": {
    "name": "ipython",
    "version": 3
   },
   "file_extension": ".py",
   "mimetype": "text/x-python",
   "name": "python",
   "nbconvert_exporter": "python",
   "pygments_lexer": "ipython3",
   "version": "3.7.12"
  }
 },
 "nbformat": 4,
 "nbformat_minor": 5
}
